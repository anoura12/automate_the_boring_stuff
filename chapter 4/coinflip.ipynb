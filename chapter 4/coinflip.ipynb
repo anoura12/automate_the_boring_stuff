{
  "nbformat": 4,
  "nbformat_minor": 0,
  "metadata": {
    "colab": {
      "name": "Untitled2.ipynb",
      "provenance": [],
      "authorship_tag": "ABX9TyOXeAW3CokMnHK1rgW7V/JF",
      "include_colab_link": true
    },
    "kernelspec": {
      "name": "python3",
      "display_name": "Python 3"
    }
  },
  "cells": [
    {
      "cell_type": "markdown",
      "metadata": {
        "id": "view-in-github",
        "colab_type": "text"
      },
      "source": [
        "<a href=\"https://colab.research.google.com/github/anoura12/automate_the_boring_stuff/blob/main/chapter%204/coinflip.ipynb\" target=\"_parent\"><img src=\"https://colab.research.google.com/assets/colab-badge.svg\" alt=\"Open In Colab\"/></a>"
      ]
    },
    {
      "cell_type": "code",
      "metadata": {
        "id": "R9swqw02FpPz"
      },
      "source": [
        "import random\n",
        "numberOfStreaks = 0\n",
        "sample = []\n",
        "for experimentNumber in range(10000):\n",
        "    for x in range(100):\n",
        "        result = random.randint(0,1)\n",
        "        sample.append(result)\n",
        "\n",
        "    for y in sample:\n",
        "        if(y == 0):\n",
        "                "
      ],
      "execution_count": null,
      "outputs": []
    }
  ]
}