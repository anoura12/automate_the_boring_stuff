{
  "nbformat": 4,
  "nbformat_minor": 0,
  "metadata": {
    "colab": {
      "name": "Untitled1.ipynb",
      "provenance": [],
      "authorship_tag": "ABX9TyNEa8YwZYBZ9/CS7TAuV1HW",
      "include_colab_link": true
    },
    "kernelspec": {
      "name": "python3",
      "display_name": "Python 3"
    }
  },
  "cells": [
    {
      "cell_type": "markdown",
      "metadata": {
        "id": "view-in-github",
        "colab_type": "text"
      },
      "source": [
        "<a href=\"https://colab.research.google.com/github/anoura12/automate_the_boring_stuff/blob/main/chapter%204/character.ipynb\" target=\"_parent\"><img src=\"https://colab.research.google.com/assets/colab-badge.svg\" alt=\"Open In Colab\"/></a>"
      ]
    },
    {
      "cell_type": "code",
      "metadata": {
        "id": "MxJgPzqyFUxD"
      },
      "source": [
        "grid = [['.', '.', '.', '.', '.', '.'],\n",
        "        ['.', 'O', 'O', '.', '.', '.'],\n",
        "        ['O', 'O', 'O', 'O', '.', '.'],\n",
        "        ['O', 'O', 'O', 'O', 'O', '.'],\n",
        "        ['.', 'O', 'O', 'O', 'O', 'O'],\n",
        "        ['O', 'O', 'O', 'O', 'O', '.'],\n",
        "        ['O', 'O', 'O', 'O', '.', '.'],\n",
        "        ['.', 'O', 'O', '.', '.', '.'],\n",
        "        ['.', '.', '.', '.', '.', '.']]\n",
        "\n",
        "for x in range(6):\n",
        "    for y in range(9):\n",
        "        print(grid[y][x], end = \"\")\n",
        "\n",
        "    print(\"\") \n",
        "\n",
        "    "
      ],
      "execution_count": null,
      "outputs": []
    }
  ]
}