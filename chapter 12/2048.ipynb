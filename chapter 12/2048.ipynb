{
  "nbformat": 4,
  "nbformat_minor": 0,
  "metadata": {
    "colab": {
      "name": "2048.ipynb",
      "provenance": [],
      "authorship_tag": "ABX9TyNjLsRtts8jC1Tfc4gFWLJx",
      "include_colab_link": true
    },
    "kernelspec": {
      "name": "python3",
      "display_name": "Python 3"
    }
  },
  "cells": [
    {
      "cell_type": "markdown",
      "metadata": {
        "id": "view-in-github",
        "colab_type": "text"
      },
      "source": [
        "<a href=\"https://colab.research.google.com/github/anoura12/automate_the_boring_stuff/blob/main/chapter%2012/2048.ipynb\" target=\"_parent\"><img src=\"https://colab.research.google.com/assets/colab-badge.svg\" alt=\"Open In Colab\"/></a>"
      ]
    },
    {
      "cell_type": "code",
      "metadata": {
        "id": "tskwQT6h4VXn"
      },
      "source": [
        "from selenium import webdriver\n",
        "from selenium.webdriver.chrome.options import Options\n",
        "from selenium.webdriver.common.keys import Keys\n",
        "import time\n",
        "chrome_options = Options()\n",
        "\n",
        "chrome_options.add_argument(\"--no-sandbox\")\n",
        "chrome_options.add_argument(\"--disable-setuid-sandbox\")\n",
        " \n",
        "driver = webdriver.Chrome(chrome_options=chrome_options)\n",
        "driver.get('https://gabrielecirulli.github.io/2048/')\n",
        "\n",
        "htmlElem = driver.find_element_by_tag_name('html')\n",
        "\n",
        "while(True):\n",
        "    htmlElem.send_keys(Keys.UP)\n",
        "    time.sleep(1)\n",
        "    htmlElem.send_keys(Keys.DOWN)\n",
        "    time.sleep(1)\n",
        "    htmlElem.send_keys(Keys.LEFT)\n",
        "    time.sleep(1)\n",
        "    htmlElem.send_keys(Keys.RIGHT)\n",
        "    time.sleep(1)"
      ],
      "execution_count": null,
      "outputs": []
    }
  ]
}