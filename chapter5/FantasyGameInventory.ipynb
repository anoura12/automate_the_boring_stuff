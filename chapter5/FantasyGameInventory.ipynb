{
  "nbformat": 4,
  "nbformat_minor": 0,
  "metadata": {
    "colab": {
      "name": "fantasyInventor.ipynb",
      "provenance": [],
      "authorship_tag": "ABX9TyM18xj93f5J/Yw/2RFbmBVm",
      "include_colab_link": true
    },
    "kernelspec": {
      "name": "python3",
      "display_name": "Python 3"
    }
  },
  "cells": [
    {
      "cell_type": "markdown",
      "metadata": {
        "id": "view-in-github",
        "colab_type": "text"
      },
      "source": [
        "<a href=\"https://colab.research.google.com/github/anoura12/automate_the_boring_stuff/blob/main/chapter5/FantasyGameInventory.ipynb\" target=\"_parent\"><img src=\"https://colab.research.google.com/assets/colab-badge.svg\" alt=\"Open In Colab\"/></a>"
      ]
    },
    {
      "cell_type": "code",
      "metadata": {
        "id": "r79Wjg1tYtKY"
      },
      "source": [
        "number_of_items = int(input(\"Enter the number of items you want - \"))\n",
        "stuff = {}\n",
        "for x in range(number_of_items):\n",
        "    items = input(\"Enter the item you want to add to the inventory - \")\n",
        "    quantity = int(input(\"Enter the amount of items available - \"))\n",
        "    stuff.setdefault(items,quantity)\n",
        "\n",
        "\n",
        "\n",
        "def displayInventory(inventory):\n",
        "    item_total = 0\n",
        "    print(\"Inventory:\")\n",
        "    \n",
        "    for k,v in inventory.items():\n",
        "        print(str(v) + \" \" + k)\n",
        "        item_total = item_total + v\n",
        "        \n",
        "    print(\"Total number of items: \" + str(item_total))\n",
        "\n",
        "displayInventory(stuff)\n",
        "\n",
        "def addToInventory(inventory,added_stuff):\n",
        "    total = 0\n",
        "    print(\"Inventory: \")\n",
        "    \n",
        "    for count in range(len(added_stuff)):\n",
        "        inventory.setdefault(added_stuff[count],0)\n",
        "        inventory[added_stuff[count]] += 1\n",
        "\n",
        "    for k,v in inventory.items():\n",
        "        print(str(v) + \" \" + k)\n",
        "        total = total + v\n",
        "\n",
        "    print(\"Total number of items: \" + str(total))\n",
        "\n",
        "\n",
        "\n",
        "while(True):\n",
        "    question = input(\"Do you want to add more items to your inventory? (Type Yes/No) - \")\n",
        "\n",
        "\n",
        "    if(question == \"No\"):\n",
        "        break\n",
        "    \n",
        "    elif(question == \"Yes\"):\n",
        "        additional_items = []\n",
        "        number_of_items = int(input(\"Enter the number of items you want - \"))\n",
        "\n",
        "        for x in range(number_of_items):\n",
        "            items = input(\"Enter the item you want to add to the inventory - \")\n",
        "            additional_items.append(items)\n",
        "        \n",
        "        addToInventory(stuff,additional_items)\n",
        "\n",
        "    \n",
        "\n",
        "    \n",
        "\n",
        "        \n"
      ],
      "execution_count": null,
      "outputs": []
    }
  ]
}