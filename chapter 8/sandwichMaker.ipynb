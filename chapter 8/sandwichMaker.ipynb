{
  "nbformat": 4,
  "nbformat_minor": 0,
  "metadata": {
    "colab": {
      "name": "sandwich maker.ipynb",
      "provenance": [],
      "authorship_tag": "ABX9TyOnLauCoxxO5iwO21SlHntn",
      "include_colab_link": true
    },
    "kernelspec": {
      "name": "python3",
      "display_name": "Python 3"
    }
  },
  "cells": [
    {
      "cell_type": "markdown",
      "metadata": {
        "id": "view-in-github",
        "colab_type": "text"
      },
      "source": [
        "<a href=\"https://colab.research.google.com/github/anoura12/automate_the_boring_stuff/blob/main/chapter%208/sandwichMaker.ipynb\" target=\"_parent\"><img src=\"https://colab.research.google.com/assets/colab-badge.svg\" alt=\"Open In Colab\"/></a>"
      ]
    },
    {
      "cell_type": "code",
      "metadata": {
        "id": "Lc6m6v_aZ95v"
      },
      "source": [
        "import pyinputplus as pyip\n",
        "total = 0\n",
        "cost = 0\n",
        "\n",
        "while(True):\n",
        "    question = pyip.inputYesNo(prompt=\"Would you like to make a sandwich? - \")\n",
        "    question.lower()\n",
        "    bread_cost = {'wheat':3.00 , 'white':2.00 , 'sourdough':5.00}\n",
        "    protein_cost = {'turkey':5.00 ,'chicken':4.00 ,'ham':4.00 ,'tofu':6.00}\n",
        "    cheese_cost = {'cheddar':6.00 , 'swiss':7.00,'mozzarella':8.00}\n",
        "    add_ons_cost = {'mayo':0.50,'mustard':0.75,'lettuce':1.00,'tomato':1.00}\n",
        "\n",
        "    if(question == 'yes' or question == 'y'):\n",
        "        print(\"What kind of bread would you like?\")\n",
        "        print(\"wheat - $3.00, white - $2.00, sourdough - $5.00\")\n",
        "        bread_type = pyip.inputMenu(['wheat','white','sourdough'])\n",
        "        cost = bread_cost[bread_type]\n",
        "\n",
        "        print(\"Choose a protein\")\n",
        "        print(\"turkey - $5.00, chicken - $4.00, ham - $4.00, tofu - $6.00\")\n",
        "        protein = pyip.inputMenu(['turkey','chicken','ham','tofu'])\n",
        "        cost += protein_cost[protein]\n",
        "\n",
        "        choice_cheese = pyip.inputYesNo(prompt = \"Do you want cheese? - \")\n",
        "        choice_cheese.lower()\n",
        "        if(choice_cheese == 'yes' or choice_cheese == 'y'):\n",
        "            print(\"What kind of cheese would you prefer?\")\n",
        "            print(\"cheddar - $6.00, swiss - $7.00, mozzarella - $8.00\")\n",
        "            cheese = pyip.inputMenu(['cheddar','swiss','mozzarella'])\n",
        "            cost += cheese_cost[cheese]\n",
        "        else:\n",
        "            cheese = \"no cheese\"\n",
        "\n",
        "        additional = pyip.inputYesNo(prompt = \"Any extras you would like to add? - \")\n",
        "        additional.lower()\n",
        "        if(additional == 'yes' or additional == 'y'):\n",
        "            print(\"mayo - $0.50, mustard - $0.75, lettuce - $1.00, tomato - $1.00\")\n",
        "            add_ons = pyip.inputMenu(['mayo','mustard','lettuce','tomato'])\n",
        "            cost += add_ons_cost[add_ons]\n",
        "        else:\n",
        "            add_ons = \"no add-ons\"\n",
        "\n",
        "        while(True):\n",
        "            sandwiches = pyip.inputInt(prompt = \"Please enter the number of sandwiches you would like. - \")\n",
        "            if(sandwiches < 1):\n",
        "                print(str(sandwiches) + \" is not a valid number. Press enter to continue.\")\n",
        "            else:\n",
        "                total = cost * sandwiches\n",
        "                break\n",
        "        \n",
        "        print(\"Your order has been placed.\")\n",
        "        print(\"Your sandwich has {} bread with {} , {} and {}\".format(bread_type , protein , cheese , add_ons))\n",
        "        print(\"You will recieve your \" + str(sandwiches) +\" sandwiches.\")\n",
        "        print(\"The total cost is $\" + str(total))\n",
        "        print(\"Have a nice day.\")\n",
        "        \n",
        "\n",
        "    else:\n",
        "        print(\"Have a nice day!\")\n",
        "        break\n",
        "\n"
      ],
      "execution_count": null,
      "outputs": []
    }
  ]
}