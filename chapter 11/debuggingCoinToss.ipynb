{
  "nbformat": 4,
  "nbformat_minor": 0,
  "metadata": {
    "colab": {
      "name": "debuggingCoinToss.ipynb",
      "provenance": [],
      "authorship_tag": "ABX9TyNJv7Py8GgJ+Qae9e7sVzOC",
      "include_colab_link": true
    },
    "kernelspec": {
      "name": "python3",
      "display_name": "Python 3"
    }
  },
  "cells": [
    {
      "cell_type": "markdown",
      "metadata": {
        "id": "view-in-github",
        "colab_type": "text"
      },
      "source": [
        "<a href=\"https://colab.research.google.com/github/anoura12/automate_the_boring_stuff/blob/main/chapter%2011/debuggingCoinToss.ipynb\" target=\"_parent\"><img src=\"https://colab.research.google.com/assets/colab-badge.svg\" alt=\"Open In Colab\"/></a>"
      ]
    },
    {
      "cell_type": "code",
      "metadata": {
        "id": "odhKQ0pT304k"
      },
      "source": [
        "import random\n",
        "guess = ''\n",
        "choice = {'heads':1 , 'tails':0}\n",
        "while guess not in ('heads', 'tails'):\n",
        "    print('Guess the coin toss! Enter heads or tails:')\n",
        "    guess = input()\n",
        "toss = random.randint(0, 1) # 0 is tails, 1 is heads\n",
        "if toss == choice[guess]:\n",
        "    print('You got it!')\n",
        "else:\n",
        "    print('Nope! Guess again!')\n",
        "    guess = input()\n",
        "    if toss == choice[guess]:\n",
        "        print('You got it!')\n",
        "    else:\n",
        "        print('Nope. You are really bad at this game.')"
      ],
      "execution_count": null,
      "outputs": []
    }
  ]
}