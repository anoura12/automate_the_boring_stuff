{
  "nbformat": 4,
  "nbformat_minor": 0,
  "metadata": {
    "colab": {
      "name": "table.ipynb",
      "provenance": [],
      "authorship_tag": "ABX9TyPfZrGIoyNoB0E7K4A1J6TE",
      "include_colab_link": true
    },
    "kernelspec": {
      "name": "python3",
      "display_name": "Python 3"
    }
  },
  "cells": [
    {
      "cell_type": "markdown",
      "metadata": {
        "id": "view-in-github",
        "colab_type": "text"
      },
      "source": [
        "<a href=\"https://colab.research.google.com/github/anoura12/automate_the_boring_stuff/blob/main/chapter%206/table.ipynb\" target=\"_parent\"><img src=\"https://colab.research.google.com/assets/colab-badge.svg\" alt=\"Open In Colab\"/></a>"
      ]
    },
    {
      "cell_type": "code",
      "metadata": {
        "id": "YOWlBrO5GGJi"
      },
      "source": [
        "tableData = [['apples', 'oranges', 'cherries', 'banana'],\n",
        "             ['Alice', 'Bob', 'Carol', 'David'],\n",
        "             ['dogs', 'cats', 'moose', 'goose']]\n",
        "def printTable(l):\n",
        "    previous = 0\n",
        "    item = \"\"\n",
        "    for x in range(4):\n",
        "        for y in range(3):\n",
        "            element = len(l[y][x])\n",
        "            if(element > previous):\n",
        "                    item = l[y][x]\n",
        "                    previous = element   \n",
        "\n",
        "    for x in range(4):\n",
        "        for y in range(3):\n",
        "            colWidth = len(item)\n",
        "            print(l[y][x].rjust(colWidth), end = \"\")\n",
        "        print(\"\")\n",
        "\n",
        "printTable(tableData)"
      ],
      "execution_count": null,
      "outputs": []
    }
  ]
}
