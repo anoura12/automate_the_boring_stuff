{
  "nbformat": 4,
  "nbformat_minor": 0,
  "metadata": {
    "colab": {
      "name": "Untitled0.ipynb",
      "provenance": [],
      "authorship_tag": "ABX9TyO3bxCzINHCKW1xf3nvqIDV",
      "include_colab_link": true
    },
    "kernelspec": {
      "name": "python3",
      "display_name": "Python 3"
    }
  },
  "cells": [
    {
      "cell_type": "markdown",
      "metadata": {
        "id": "view-in-github",
        "colab_type": "text"
      },
      "source": [
        "<a href=\"https://colab.research.google.com/github/anoura12/automate_the_boring_stuff/blob/main/chapter%204/commacode.ipynb\" target=\"_parent\"><img src=\"https://colab.research.google.com/assets/colab-badge.svg\" alt=\"Open In Colab\"/></a>"
      ]
    },
    {
      "cell_type": "code",
      "metadata": {
        "id": "QW71u-cX7U76"
      },
      "source": [
        "def commacode(lists):\n",
        "    string = \"\"\n",
        "    length = len(lists)\n",
        "    for x in range(length):\n",
        "        element = lists[x]\n",
        "        if(x == length - 1):\n",
        "            string = string + element + \" and \" + lists[x+1]\n",
        "            break\n",
        "\n",
        "        string = string + element + ','    \n",
        "    print(string)\n",
        "\n",
        "collection = []\n",
        "l = int(input(\"Enter the number of items you want to add - \"))\n",
        "for x in range(l):\n",
        "    item = input(\"Enter your item - \")\n",
        "    collection.append(item)\n",
        "\n",
        "commacode(collection)"
      ],
      "execution_count": null,
      "outputs": []
    },
    {
      "cell_type": "markdown",
      "metadata": {
        "id": "PpWolMAx7W9h"
      },
      "source": [
        ""
      ]
    }
  ]
}
